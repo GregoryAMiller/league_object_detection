{
 "cells": [
  {
   "cell_type": "markdown",
   "metadata": {},
   "source": [
    "This file splits the data into training, testing, and validation sets"
   ]
  },
  {
   "cell_type": "code",
   "execution_count": 1,
   "metadata": {},
   "outputs": [],
   "source": [
    "import os\n",
    "import shutil\n",
    "import random"
   ]
  },
  {
   "cell_type": "code",
   "execution_count": 2,
   "metadata": {},
   "outputs": [
    {
     "name": "stdout",
     "output_type": "stream",
     "text": [
      "Files have been successfully split and copied into train, test, and val directories.\n"
     ]
    }
   ],
   "source": [
    "# Define the split ratios\n",
    "train_ratio = 0.7\n",
    "val_ratio = 0.15\n",
    "test_ratio = 0.15\n",
    "\n",
    "# Paths to the image and label folders\n",
    "image_dir = 'images'\n",
    "label_dir = 'labels'\n",
    "\n",
    "# Get all filenames from both directories\n",
    "image_files = [f for f in os.listdir(image_dir) if os.path.isfile(os.path.join(image_dir, f))]\n",
    "label_files = [f for f in os.listdir(label_dir) if os.path.isfile(os.path.join(label_dir, f))]\n",
    "\n",
    "# Shuffle the file lists\n",
    "random.shuffle(image_files)\n",
    "random.shuffle(label_files)\n",
    "\n",
    "# Calculate split indices\n",
    "total_images = len(image_files)\n",
    "total_labels = len(label_files)\n",
    "train_end = int(total_images * train_ratio)\n",
    "val_end = train_end + int(total_images * val_ratio)\n",
    "\n",
    "# Function to create directories and copy files\n",
    "def create_dirs_and_copy(files, start_idx, end_idx, data_type, file_type):\n",
    "    folder_path = os.path.join(data_type, file_type)\n",
    "    if not os.path.exists(folder_path):\n",
    "        os.makedirs(folder_path)\n",
    "    for f in files[start_idx:end_idx]:\n",
    "        shutil.copy(os.path.join(file_type, f), os.path.join(folder_path, f))\n",
    "\n",
    "# Split and copy image files\n",
    "create_dirs_and_copy(image_files, 0, train_end, 'train', 'images')\n",
    "create_dirs_and_copy(image_files, train_end, val_end, 'val', 'images')\n",
    "create_dirs_and_copy(image_files, val_end, total_images, 'test', 'images')\n",
    "\n",
    "# Split and copy label files\n",
    "create_dirs_and_copy(label_files, 0, train_end, 'train', 'labels')\n",
    "create_dirs_and_copy(label_files, train_end, val_end, 'val', 'labels')\n",
    "create_dirs_and_copy(label_files, val_end, total_labels, 'test', 'labels')\n",
    "\n",
    "print(\"Files have been successfully split and copied into train, test, and val directories.\")"
   ]
  }
 ],
 "metadata": {
  "kernelspec": {
   "display_name": "Python 3",
   "language": "python",
   "name": "python3"
  },
  "language_info": {
   "codemirror_mode": {
    "name": "ipython",
    "version": 3
   },
   "file_extension": ".py",
   "mimetype": "text/x-python",
   "name": "python",
   "nbconvert_exporter": "python",
   "pygments_lexer": "ipython3",
   "version": "3.9.9"
  }
 },
 "nbformat": 4,
 "nbformat_minor": 2
}

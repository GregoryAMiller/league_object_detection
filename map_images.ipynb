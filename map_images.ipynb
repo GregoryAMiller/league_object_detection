{
 "cells": [
  {
   "cell_type": "markdown",
   "metadata": {},
   "source": [
    "This script takes a mp4 file of the league of legends map that I created and creates many images from that video"
   ]
  },
  {
   "cell_type": "code",
   "execution_count": 1,
   "metadata": {},
   "outputs": [],
   "source": [
    "import cv2\n",
    "import os"
   ]
  },
  {
   "cell_type": "code",
   "execution_count": 3,
   "metadata": {},
   "outputs": [
    {
     "name": "stdout",
     "output_type": "stream",
     "text": [
      "Saved: map_assets\\image_0.jpg\n",
      "Saved: map_assets\\image_1.jpg\n",
      "Saved: map_assets\\image_2.jpg\n",
      "Saved: map_assets\\image_3.jpg\n",
      "Saved: map_assets\\image_4.jpg\n",
      "Saved: map_assets\\image_5.jpg\n",
      "Saved: map_assets\\image_6.jpg\n",
      "Saved: map_assets\\image_7.jpg\n",
      "Saved: map_assets\\image_8.jpg\n",
      "Saved: map_assets\\image_9.jpg\n",
      "Saved: map_assets\\image_10.jpg\n",
      "Saved: map_assets\\image_11.jpg\n",
      "Saved: map_assets\\image_12.jpg\n",
      "Saved: map_assets\\image_13.jpg\n",
      "Saved: map_assets\\image_14.jpg\n",
      "Saved: map_assets\\image_15.jpg\n",
      "Saved: map_assets\\image_16.jpg\n",
      "Saved: map_assets\\image_17.jpg\n",
      "Saved: map_assets\\image_18.jpg\n",
      "Saved: map_assets\\image_19.jpg\n",
      "Saved: map_assets\\image_20.jpg\n",
      "Saved: map_assets\\image_21.jpg\n",
      "Saved: map_assets\\image_22.jpg\n",
      "Saved: map_assets\\image_23.jpg\n",
      "Saved: map_assets\\image_24.jpg\n",
      "Saved: map_assets\\image_25.jpg\n",
      "Saved: map_assets\\image_26.jpg\n",
      "Saved: map_assets\\image_27.jpg\n",
      "Saved: map_assets\\image_28.jpg\n",
      "Saved: map_assets\\image_29.jpg\n",
      "Saved: map_assets\\image_30.jpg\n",
      "Saved: map_assets\\image_31.jpg\n",
      "Saved: map_assets\\image_32.jpg\n",
      "Saved: map_assets\\image_33.jpg\n",
      "Saved: map_assets\\image_34.jpg\n",
      "Saved: map_assets\\image_35.jpg\n",
      "Saved: map_assets\\image_36.jpg\n",
      "Saved: map_assets\\image_37.jpg\n",
      "Saved: map_assets\\image_38.jpg\n",
      "Saved: map_assets\\image_39.jpg\n",
      "Saved: map_assets\\image_40.jpg\n",
      "Saved: map_assets\\image_41.jpg\n",
      "Saved: map_assets\\image_42.jpg\n",
      "Saved: map_assets\\image_43.jpg\n",
      "Saved: map_assets\\image_44.jpg\n",
      "Saved: map_assets\\image_45.jpg\n",
      "Saved: map_assets\\image_46.jpg\n",
      "Saved: map_assets\\image_47.jpg\n",
      "Saved: map_assets\\image_48.jpg\n",
      "Saved: map_assets\\image_49.jpg\n",
      "Saved: map_assets\\image_50.jpg\n",
      "Saved: map_assets\\image_51.jpg\n",
      "Image extraction complete.\n"
     ]
    }
   ],
   "source": [
    "# Video file name\n",
    "video_file = 'lol_map_video.mp4'  # Replace with your video file name\n",
    "\n",
    "# Create the 'map_assets' directory if it doesn't exist\n",
    "output_dir = 'map_assets'\n",
    "if not os.path.exists(output_dir):\n",
    "    os.makedirs(output_dir)\n",
    "\n",
    "# Open the video file\n",
    "cap = cv2.VideoCapture(video_file)\n",
    "\n",
    "# Check if the video has been opened successfully\n",
    "if not cap.isOpened():\n",
    "    print(\"Error opening video file.\")\n",
    "    exit()\n",
    "\n",
    "# Get the frames per second (fps) of the video\n",
    "fps = cap.get(cv2.CAP_PROP_FPS)\n",
    "\n",
    "# Initialize a counter for image naming and a frame position tracker\n",
    "count = 0\n",
    "frame_pos = 0\n",
    "\n",
    "while True:\n",
    "    # Set the position of the next frame to read\n",
    "    cap.set(cv2.CAP_PROP_POS_FRAMES, frame_pos)\n",
    "\n",
    "    # Read the next frame from the video\n",
    "    ret, frame = cap.read()\n",
    "\n",
    "    # Break the loop if there are no more frames\n",
    "    if not ret:\n",
    "        break\n",
    "\n",
    "    # Save the frame as a JPG file\n",
    "    output_filename = os.path.join(output_dir, f'image_{count}.jpg')\n",
    "    cv2.imwrite(output_filename, frame)\n",
    "    print(f'Saved: {output_filename}')\n",
    "\n",
    "    # Increment the counter and calculate the next frame position (every 1 second)\n",
    "    count += 1\n",
    "    frame_pos = int(fps * count)\n",
    "\n",
    "# Release the video capture object\n",
    "cap.release()\n",
    "print(\"Image extraction complete.\")"
   ]
  }
 ],
 "metadata": {
  "kernelspec": {
   "display_name": "Python 3",
   "language": "python",
   "name": "python3"
  },
  "language_info": {
   "codemirror_mode": {
    "name": "ipython",
    "version": 3
   },
   "file_extension": ".py",
   "mimetype": "text/x-python",
   "name": "python",
   "nbconvert_exporter": "python",
   "pygments_lexer": "ipython3",
   "version": "3.9.9"
  }
 },
 "nbformat": 4,
 "nbformat_minor": 2
}

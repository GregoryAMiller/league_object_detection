{
 "cells": [
  {
   "cell_type": "markdown",
   "metadata": {},
   "source": [
    "This script fixes labels in my label files into numbers for modeling"
   ]
  },
  {
   "cell_type": "code",
   "execution_count": 1,
   "metadata": {},
   "outputs": [],
   "source": [
    "import os"
   ]
  },
  {
   "cell_type": "code",
   "execution_count": 2,
   "metadata": {},
   "outputs": [
    {
     "name": "stdout",
     "output_type": "stream",
     "text": [
      "Label files have been updated with case-insensitive matching.\n"
     ]
    }
   ],
   "source": [
    "# Dictionary mapping label names to numbers\n",
    "label_mapping = {\"Akshan\": 11, \"Annie\": 0}\n",
    "\n",
    "# Convert all keys in the dictionary to lowercase for case-insensitive matching\n",
    "label_mapping_lower = {key.lower(): value for key, value in label_mapping.items()}\n",
    "\n",
    "# Directory containing the label files\n",
    "label_dir = 'labels'\n",
    "\n",
    "# Process each file in the labels directory\n",
    "for filename in os.listdir(label_dir):\n",
    "    if filename.endswith(\".txt\"):\n",
    "        filepath = os.path.join(label_dir, filename)\n",
    "        \n",
    "        with open(filepath, 'r') as file:\n",
    "            lines = file.readlines()\n",
    "\n",
    "        # Replace label names with numbers, case-insensitively\n",
    "        new_lines = []\n",
    "        for line in lines:\n",
    "            parts = line.split()\n",
    "            label_lower = parts[0].lower()\n",
    "            if label_lower in label_mapping_lower:\n",
    "                parts[0] = str(label_mapping_lower[label_lower])\n",
    "                new_line = ' '.join(parts)\n",
    "                new_lines.append(new_line)\n",
    "            else:\n",
    "                # If the label is not in the dictionary, keep the line as is\n",
    "                new_lines.append(line)\n",
    "\n",
    "        # Write the modified lines back to the file\n",
    "        with open(filepath, 'w') as file:\n",
    "            file.writelines(\"\\n\".join(new_lines))\n",
    "\n",
    "print(\"Label files have been updated with case-insensitive matching.\")"
   ]
  }
 ],
 "metadata": {
  "kernelspec": {
   "display_name": "Python 3",
   "language": "python",
   "name": "python3"
  },
  "language_info": {
   "codemirror_mode": {
    "name": "ipython",
    "version": 3
   },
   "file_extension": ".py",
   "mimetype": "text/x-python",
   "name": "python",
   "nbconvert_exporter": "python",
   "pygments_lexer": "ipython3",
   "version": "3.9.9"
  }
 },
 "nbformat": 4,
 "nbformat_minor": 2
}
